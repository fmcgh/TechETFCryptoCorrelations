{
 "cells": [
  {
   "cell_type": "markdown",
   "metadata": {},
   "source": [
    "This simply exists to pull and silo the data from the Yahoo Finance API. \n",
    "\n",
    "This can be done live in running the code however for this analysis it is preferred that the data be downloaded and silod as at the point the study began to avoid variables. \n",
    "\n",
    "Any analysis in this Repository can simply have the resultant .csv files replaced again with a live connection to the Yahoo Finance API."
   ]
  },
  {
   "cell_type": "code",
   "execution_count": 2,
   "metadata": {},
   "outputs": [],
   "source": [
    "import pandas as pd\n",
    "import yfinance as yf\n",
    "from datetime import datetime"
   ]
  },
  {
   "cell_type": "markdown",
   "metadata": {},
   "source": [
    "First we dynamically set the start and end date for each stock to be consistent with one another\n",
    "Which can depend on when a security was first established and when it ceased trading\n",
    "\n",
    "//// Finding start and end date ////"
   ]
  },
  {
   "cell_type": "code",
   "execution_count": 14,
   "metadata": {},
   "outputs": [
    {
     "name": "stdout",
     "output_type": "stream",
     "text": [
      "VIT || Min date: 2004-01-30 00:00:00-05:00 || Max date: 2024-11-11 00:00:00-05:00\n",
      "BTC || Min date: 2014-09-17 00:00:00+00:00 || Max date: 2024-11-11 00:00:00+00:00\n",
      "Start date is therefore: ||  2014-09-17 00:00:00+00:00\n",
      "End date is therefore:   ||  2024-11-11 00:00:00+00:00\n"
     ]
    }
   ],
   "source": [
    "# //// Finding max and min dates for each security ////\n",
    "\n",
    "#initialising the API connection for each of the target securities:\n",
    "VIT = yf.Ticker(\"VGT\")\n",
    "BTC = yf.Ticker(\"BTC-USD\")\n",
    "\n",
    "# //// VIT ////\n",
    "#Find the earliest and most recent dates available for VIT\n",
    "VIT_hist = VIT.history(period='max')\n",
    "VIT_min_date = VIT_hist.index.min()\n",
    "VIT_max_date = VIT_hist.index.max()\n",
    "print('VIT' , '|| Min date:', VIT_min_date , '|| Max date:', VIT_max_date)\n",
    "\n",
    "# //// BTC ////\n",
    "#Find the earliest and most recent dates available for BTC\n",
    "BTC_hist = BTC.history(period='max')\n",
    "BTC_min_date = BTC_hist.index.min()\n",
    "BTC_max_date = BTC_hist.index.max()\n",
    "print('BTC' , '|| Min date:', BTC_min_date , '|| Max date:', BTC_max_date)\n",
    "\n",
    "\n",
    "# //// Comparing Dates ////\n",
    "#To ensure consitency across the dataset, we will use the most recent min and max for both\n",
    "start_date = max(VIT_min_date, BTC_min_date)\n",
    "end_date = min(VIT_max_date, BTC_max_date)\n",
    "\n",
    "print('Start date is therefore: || ', start_date)\n",
    "print('End date is therefore:   || ', end_date)"
   ]
  },
  {
   "cell_type": "markdown",
   "metadata": {},
   "source": [
    "Limiting history now based on that start and end date:"
   ]
  },
  {
   "cell_type": "code",
   "execution_count": 15,
   "metadata": {},
   "outputs": [
    {
     "name": "stdout",
     "output_type": "stream",
     "text": [
      "VIT: ||                                  Open        High         Low       Close  \\\n",
      "Date                                                                        \n",
      "2014-09-17 00:00:00-04:00   91.473408   91.997347   91.139165   91.599876   \n",
      "2014-09-18 00:00:00-04:00   91.888929   92.250272   91.780525   92.232201   \n",
      "2014-09-19 00:00:00-04:00   92.521290   92.521290   91.455334   91.834747   \n",
      "2014-09-22 00:00:00-04:00   91.717278   91.717278   90.750692   91.012665   \n",
      "2014-09-23 00:00:00-04:00   90.750715   91.193355   90.678445   90.732651   \n",
      "...                               ...         ...         ...         ...   \n",
      "2024-11-04 00:00:00-05:00  586.900024  590.390015  583.340027  585.900024   \n",
      "2024-11-05 00:00:00-05:00  587.349976  594.659973  587.349976  594.390015   \n",
      "2024-11-06 00:00:00-05:00  606.960022  614.159973  605.369995  613.010010   \n",
      "2024-11-07 00:00:00-05:00  617.849976  625.729980  617.500000  625.570007   \n",
      "2024-11-08 00:00:00-05:00  625.330017  626.450012  622.109985  624.469971   \n",
      "\n",
      "                           Volume  Dividends  Stock Splits  Capital Gains  \n",
      "Date                                                                       \n",
      "2014-09-17 00:00:00-04:00  231900        0.0           0.0            0.0  \n",
      "2014-09-18 00:00:00-04:00  231100        0.0           0.0            0.0  \n",
      "2014-09-19 00:00:00-04:00  198900        0.0           0.0            0.0  \n",
      "2014-09-22 00:00:00-04:00  271000        0.0           0.0            0.0  \n",
      "2014-09-23 00:00:00-04:00  268200        0.0           0.0            0.0  \n",
      "...                           ...        ...           ...            ...  \n",
      "2024-11-04 00:00:00-05:00  363900        0.0           0.0            0.0  \n",
      "2024-11-05 00:00:00-05:00  314200        0.0           0.0            0.0  \n",
      "2024-11-06 00:00:00-05:00  641800        0.0           0.0            0.0  \n",
      "2024-11-07 00:00:00-05:00  533000        0.0           0.0            0.0  \n",
      "2024-11-08 00:00:00-05:00  430800        0.0           0.0            0.0  \n",
      "\n",
      "[2555 rows x 8 columns]\n",
      "BTC: ||                                    Open          High           Low  \\\n",
      "Date                                                                  \n",
      "2014-09-17 00:00:00+00:00    465.864014    468.174011    452.421997   \n",
      "2014-09-18 00:00:00+00:00    456.859985    456.859985    413.104004   \n",
      "2014-09-19 00:00:00+00:00    424.102997    427.834991    384.532013   \n",
      "2014-09-20 00:00:00+00:00    394.673004    423.295990    389.882996   \n",
      "2014-09-21 00:00:00+00:00    408.084991    412.425995    393.181000   \n",
      "...                                 ...           ...           ...   \n",
      "2024-11-06 00:00:00+00:00  69358.500000  76460.156250  69322.031250   \n",
      "2024-11-07 00:00:00+00:00  75637.085938  76943.117188  74480.421875   \n",
      "2024-11-08 00:00:00+00:00  75902.835938  77252.750000  75648.742188   \n",
      "2024-11-09 00:00:00+00:00  76556.187500  76932.765625  75773.789062   \n",
      "2024-11-10 00:00:00+00:00  76775.546875  81474.421875  76565.429688   \n",
      "\n",
      "                                  Close        Volume  Dividends  Stock Splits  \n",
      "Date                                                                            \n",
      "2014-09-17 00:00:00+00:00    457.334015      21056800        0.0           0.0  \n",
      "2014-09-18 00:00:00+00:00    424.440002      34483200        0.0           0.0  \n",
      "2014-09-19 00:00:00+00:00    394.795990      37919700        0.0           0.0  \n",
      "2014-09-20 00:00:00+00:00    408.903992      36863600        0.0           0.0  \n",
      "2014-09-21 00:00:00+00:00    398.821014      26580100        0.0           0.0  \n",
      "...                                 ...           ...        ...           ...  \n",
      "2024-11-06 00:00:00+00:00  75639.078125  118592653963        0.0           0.0  \n",
      "2024-11-07 00:00:00+00:00  75904.859375   63467654989        0.0           0.0  \n",
      "2024-11-08 00:00:00+00:00  76545.476562   55176858003        0.0           0.0  \n",
      "2024-11-09 00:00:00+00:00  76778.867188   29009480361        0.0           0.0  \n",
      "2024-11-10 00:00:00+00:00  80474.187500   82570594495        0.0           0.0  \n",
      "\n",
      "[3708 rows x 7 columns]\n"
     ]
    }
   ],
   "source": [
    "#Pull Stock Price History\n",
    "df_vit = VIT.history(start=start_date, end=end_date)\n",
    "df_btc = BTC.history(start=start_date, end=end_date)\n",
    "\n",
    "#To ensure data is available for each security\n",
    "print('VIT: ||', df_vit)\n",
    "print('BTC: ||', df_btc)"
   ]
  },
  {
   "cell_type": "code",
   "execution_count": 16,
   "metadata": {},
   "outputs": [
    {
     "name": "stdout",
     "output_type": "stream",
     "text": [
      "VIT_history2014-09-17_to_2024-11-11.csv\n",
      "BTC_history2014-09-17_to_2024-11-11.csv\n"
     ]
    }
   ],
   "source": [
    "#Siloing data into CSV format to be used in analysis\n",
    "\n",
    "vit_csv_name = 'VIT_history' + start_date.strftime('%Y-%m-%d') + '_to_' + end_date.strftime('%Y-%m-%d') + '.csv'\n",
    "print(vit_csv_name)\n",
    "\n",
    "btc_csv_name = 'BTC_history' + start_date.strftime('%Y-%m-%d') + '_to_' + end_date.strftime('%Y-%m-%d') + '.csv'\n",
    "print(btc_csv_name)\n",
    "\n",
    "#Siloing data now for use as CSVs, should further analysis be required in future alternative datasets can be used - Or 'live' API connection established.\n",
    "df_vit.to_csv(vit_csv_name)\n",
    "df_btc.to_csv(btc_csv_name)"
   ]
  }
 ],
 "metadata": {
  "kernelspec": {
   "display_name": "Python 3",
   "language": "python",
   "name": "python3"
  },
  "language_info": {
   "codemirror_mode": {
    "name": "ipython",
    "version": 3
   },
   "file_extension": ".py",
   "mimetype": "text/x-python",
   "name": "python",
   "nbconvert_exporter": "python",
   "pygments_lexer": "ipython3",
   "version": "3.10.6"
  }
 },
 "nbformat": 4,
 "nbformat_minor": 2
}
