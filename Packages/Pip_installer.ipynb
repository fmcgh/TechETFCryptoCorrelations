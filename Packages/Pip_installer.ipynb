{
 "cells": [
  {
   "cell_type": "markdown",
   "metadata": {},
   "source": [
    "This exists purely as an executable for the packages.txt which lists all the Python packages used in this analysis. \n",
    "\n",
    "You can adjust this by editing the packages.txt file for whichever package you require."
   ]
  },
  {
   "cell_type": "code",
   "execution_count": 3,
   "metadata": {},
   "outputs": [
    {
     "name": "stdout",
     "output_type": "stream",
     "text": [
      "Requirement already satisfied: pandas in c:\\users\\pc4475911\\appdata\\local\\programs\\python\\python310\\lib\\site-packages (from -r packages.txt (line 1)) (2.1.4)\n",
      "Requirement already satisfied: numpy in c:\\users\\pc4475911\\appdata\\local\\programs\\python\\python310\\lib\\site-packages (from -r packages.txt (line 2)) (1.26.3)\n",
      "Requirement already satisfied: yfinance in c:\\users\\pc4475911\\appdata\\local\\programs\\python\\python310\\lib\\site-packages (from -r packages.txt (line 3)) (0.2.35)\n",
      "Requirement already satisfied: datetime in c:\\users\\pc4475911\\appdata\\local\\programs\\python\\python310\\lib\\site-packages (from -r packages.txt (line 4)) (5.5)\n",
      "Requirement already satisfied: matplotlib in c:\\users\\pc4475911\\appdata\\local\\programs\\python\\python310\\lib\\site-packages (from -r packages.txt (line 5)) (3.8.2)\n",
      "Requirement already satisfied: python-dateutil>=2.8.2 in c:\\users\\pc4475911\\appdata\\roaming\\python\\python310\\site-packages (from pandas->-r packages.txt (line 1)) (2.8.2)\n",
      "Requirement already satisfied: pytz>=2020.1 in c:\\users\\pc4475911\\appdata\\local\\programs\\python\\python310\\lib\\site-packages (from pandas->-r packages.txt (line 1)) (2023.3.post1)\n",
      "Requirement already satisfied: tzdata>=2022.1 in c:\\users\\pc4475911\\appdata\\local\\programs\\python\\python310\\lib\\site-packages (from pandas->-r packages.txt (line 1)) (2023.4)\n",
      "Requirement already satisfied: requests>=2.31 in c:\\users\\pc4475911\\appdata\\local\\programs\\python\\python310\\lib\\site-packages (from yfinance->-r packages.txt (line 3)) (2.31.0)\n",
      "Requirement already satisfied: multitasking>=0.0.7 in c:\\users\\pc4475911\\appdata\\local\\programs\\python\\python310\\lib\\site-packages (from yfinance->-r packages.txt (line 3)) (0.0.11)\n",
      "Requirement already satisfied: lxml>=4.9.1 in c:\\users\\pc4475911\\appdata\\local\\programs\\python\\python310\\lib\\site-packages (from yfinance->-r packages.txt (line 3)) (5.1.0)\n",
      "Requirement already satisfied: appdirs>=1.4.4 in c:\\users\\pc4475911\\appdata\\local\\programs\\python\\python310\\lib\\site-packages (from yfinance->-r packages.txt (line 3)) (1.4.4)\n",
      "Requirement already satisfied: frozendict>=2.3.4 in c:\\users\\pc4475911\\appdata\\local\\programs\\python\\python310\\lib\\site-packages (from yfinance->-r packages.txt (line 3)) (2.4.0)\n",
      "Requirement already satisfied: peewee>=3.16.2 in c:\\users\\pc4475911\\appdata\\local\\programs\\python\\python310\\lib\\site-packages (from yfinance->-r packages.txt (line 3)) (3.17.0)\n",
      "Requirement already satisfied: beautifulsoup4>=4.11.1 in c:\\users\\pc4475911\\appdata\\local\\programs\\python\\python310\\lib\\site-packages (from yfinance->-r packages.txt (line 3)) (4.12.3)\n",
      "Requirement already satisfied: html5lib>=1.1 in c:\\users\\pc4475911\\appdata\\local\\programs\\python\\python310\\lib\\site-packages (from yfinance->-r packages.txt (line 3)) (1.1)\n",
      "Requirement already satisfied: zope.interface in c:\\users\\pc4475911\\appdata\\local\\programs\\python\\python310\\lib\\site-packages (from datetime->-r packages.txt (line 4)) (7.1.1)\n",
      "Requirement already satisfied: contourpy>=1.0.1 in c:\\users\\pc4475911\\appdata\\local\\programs\\python\\python310\\lib\\site-packages (from matplotlib->-r packages.txt (line 5)) (1.2.0)\n",
      "Requirement already satisfied: cycler>=0.10 in c:\\users\\pc4475911\\appdata\\local\\programs\\python\\python310\\lib\\site-packages (from matplotlib->-r packages.txt (line 5)) (0.12.1)\n",
      "Requirement already satisfied: fonttools>=4.22.0 in c:\\users\\pc4475911\\appdata\\local\\programs\\python\\python310\\lib\\site-packages (from matplotlib->-r packages.txt (line 5)) (4.47.2)\n",
      "Requirement already satisfied: kiwisolver>=1.3.1 in c:\\users\\pc4475911\\appdata\\local\\programs\\python\\python310\\lib\\site-packages (from matplotlib->-r packages.txt (line 5)) (1.4.5)\n",
      "Requirement already satisfied: packaging>=20.0 in c:\\users\\pc4475911\\appdata\\roaming\\python\\python310\\site-packages (from matplotlib->-r packages.txt (line 5)) (23.2)\n",
      "Requirement already satisfied: pillow>=8 in c:\\users\\pc4475911\\appdata\\local\\programs\\python\\python310\\lib\\site-packages (from matplotlib->-r packages.txt (line 5)) (10.2.0)\n",
      "Requirement already satisfied: pyparsing>=2.3.1 in c:\\users\\pc4475911\\appdata\\local\\programs\\python\\python310\\lib\\site-packages (from matplotlib->-r packages.txt (line 5)) (3.1.1)\n",
      "Requirement already satisfied: soupsieve>1.2 in c:\\users\\pc4475911\\appdata\\local\\programs\\python\\python310\\lib\\site-packages (from beautifulsoup4>=4.11.1->yfinance->-r packages.txt (line 3)) (2.5)\n",
      "Requirement already satisfied: six>=1.9 in c:\\users\\pc4475911\\appdata\\roaming\\python\\python310\\site-packages (from html5lib>=1.1->yfinance->-r packages.txt (line 3)) (1.16.0)\n",
      "Requirement already satisfied: webencodings in c:\\users\\pc4475911\\appdata\\local\\programs\\python\\python310\\lib\\site-packages (from html5lib>=1.1->yfinance->-r packages.txt (line 3)) (0.5.1)\n",
      "Requirement already satisfied: charset-normalizer<4,>=2 in c:\\users\\pc4475911\\appdata\\local\\programs\\python\\python310\\lib\\site-packages (from requests>=2.31->yfinance->-r packages.txt (line 3)) (3.3.2)\n",
      "Requirement already satisfied: idna<4,>=2.5 in c:\\users\\pc4475911\\appdata\\local\\programs\\python\\python310\\lib\\site-packages (from requests>=2.31->yfinance->-r packages.txt (line 3)) (3.6)\n",
      "Requirement already satisfied: urllib3<3,>=1.21.1 in c:\\users\\pc4475911\\appdata\\local\\programs\\python\\python310\\lib\\site-packages (from requests>=2.31->yfinance->-r packages.txt (line 3)) (2.1.0)\n",
      "Requirement already satisfied: certifi>=2017.4.17 in c:\\users\\pc4475911\\appdata\\local\\programs\\python\\python310\\lib\\site-packages (from requests>=2.31->yfinance->-r packages.txt (line 3)) (2023.11.17)\n",
      "Requirement already satisfied: setuptools in c:\\users\\pc4475911\\appdata\\local\\programs\\python\\python310\\lib\\site-packages (from zope.interface->datetime->-r packages.txt (line 4)) (63.2.0)\n"
     ]
    }
   ],
   "source": [
    "!pip install -r packages.txt"
   ]
  }
 ],
 "metadata": {
  "kernelspec": {
   "display_name": "Python 3",
   "language": "python",
   "name": "python3"
  },
  "language_info": {
   "codemirror_mode": {
    "name": "ipython",
    "version": 3
   },
   "file_extension": ".py",
   "mimetype": "text/x-python",
   "name": "python",
   "nbconvert_exporter": "python",
   "pygments_lexer": "ipython3",
   "version": "3.10.6"
  }
 },
 "nbformat": 4,
 "nbformat_minor": 2
}
